{
 "cells": [
  {
   "cell_type": "code",
   "execution_count": 2,
   "metadata": {
    "ExecuteTime": {
     "end_time": "2019-12-01T20:07:34.341122Z",
     "start_time": "2019-12-01T20:07:34.338131Z"
    }
   },
   "outputs": [],
   "source": [
    "import sys\n",
    "sys.path.append('../codes/')"
   ]
  },
  {
   "cell_type": "code",
   "execution_count": 3,
   "metadata": {
    "ExecuteTime": {
     "end_time": "2019-12-01T20:07:36.589111Z",
     "start_time": "2019-12-01T20:07:34.751026Z"
    }
   },
   "outputs": [],
   "source": [
    "from utils import preprocess"
   ]
  },
  {
   "cell_type": "code",
   "execution_count": 4,
   "metadata": {
    "ExecuteTime": {
     "end_time": "2019-12-01T20:07:36.594095Z",
     "start_time": "2019-12-01T20:07:36.590104Z"
    }
   },
   "outputs": [],
   "source": [
    "from utils import TRAIN_PATH"
   ]
  },
  {
   "cell_type": "code",
   "execution_count": 5,
   "metadata": {
    "ExecuteTime": {
     "end_time": "2019-12-01T20:10:13.470642Z",
     "start_time": "2019-12-01T20:07:37.458943Z"
    }
   },
   "outputs": [
    {
     "name": "stderr",
     "output_type": "stream",
     "text": [
      "100%|█████████████████████████████████████████████████████████████████████████████████████████████████████████████████████████████████████████████████████████████████████████████████████████████████| 25000/25000 [02:32<00:00, 163.48it/s]\n"
     ]
    }
   ],
   "source": [
    "output = preprocess(TRAIN_PATH, \"\")"
   ]
  },
  {
   "cell_type": "code",
   "execution_count": 7,
   "metadata": {
    "ExecuteTime": {
     "end_time": "2019-12-01T20:15:13.287316Z",
     "start_time": "2019-12-01T20:15:13.062917Z"
    }
   },
   "outputs": [],
   "source": [
    "from collections import Counter\n",
    "\n",
    "flat = []\n",
    "for l in output:\n",
    "    for w in l:\n",
    "        flat.append(w)"
   ]
  },
  {
   "cell_type": "code",
   "execution_count": 8,
   "metadata": {
    "ExecuteTime": {
     "end_time": "2019-12-01T20:15:23.991348Z",
     "start_time": "2019-12-01T20:15:23.730047Z"
    }
   },
   "outputs": [
    {
     "data": {
      "text/plain": [
       "[('movie', 48932),\n",
       " ('film', 43748),\n",
       " ('make', 23127),\n",
       " ('see', 23115),\n",
       " ('good', 18863),\n",
       " ('time', 15441),\n",
       " ('get', 14544),\n",
       " ('go', 13955),\n",
       " ('character', 13796),\n",
       " ('watch', 13433),\n",
       " ('story', 12908),\n",
       " ('bad', 12897),\n",
       " ('even', 12659),\n",
       " ('would', 12522),\n",
       " ('really', 11738),\n",
       " ('think', 11225),\n",
       " ('well', 10588),\n",
       " ('show', 10230),\n",
       " ('scene', 10022),\n",
       " ('people', 9356)]"
      ]
     },
     "execution_count": 8,
     "metadata": {},
     "output_type": "execute_result"
    }
   ],
   "source": [
    "Counter(flat).most_common(20)"
   ]
  },
  {
   "cell_type": "code",
   "execution_count": null,
   "metadata": {},
   "outputs": [],
   "source": []
  }
 ],
 "metadata": {
  "kernelspec": {
   "display_name": "Python 3",
   "language": "python",
   "name": "python3"
  },
  "language_info": {
   "codemirror_mode": {
    "name": "ipython",
    "version": 3
   },
   "file_extension": ".py",
   "mimetype": "text/x-python",
   "name": "python",
   "nbconvert_exporter": "python",
   "pygments_lexer": "ipython3",
   "version": "3.7.5"
  },
  "latex_envs": {
   "LaTeX_envs_menu_present": true,
   "autoclose": false,
   "autocomplete": true,
   "bibliofile": "biblio.bib",
   "cite_by": "apalike",
   "current_citInitial": 1,
   "eqLabelWithNumbers": true,
   "eqNumInitial": 1,
   "hotkeys": {
    "equation": "Ctrl-E",
    "itemize": "Ctrl-I"
   },
   "labels_anchors": false,
   "latex_user_defs": false,
   "report_style_numbering": false,
   "user_envs_cfg": false
  },
  "toc": {
   "base_numbering": 1,
   "nav_menu": {},
   "number_sections": false,
   "sideBar": true,
   "skip_h1_title": false,
   "title_cell": "Table of Contents",
   "title_sidebar": "Contents",
   "toc_cell": false,
   "toc_position": {},
   "toc_section_display": true,
   "toc_window_display": false
  }
 },
 "nbformat": 4,
 "nbformat_minor": 2
}
